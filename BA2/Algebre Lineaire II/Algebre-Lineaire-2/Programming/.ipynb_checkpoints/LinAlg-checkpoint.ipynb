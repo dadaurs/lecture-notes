{
 "cells": [
  {
   "cell_type": "markdown",
   "metadata": {},
   "source": [
    "In this exercise, we implement basic row and column operations. "
   ]
  },
  {
   "cell_type": "code",
   "execution_count": 1,
   "metadata": {},
   "outputs": [],
   "source": [
    "from sympy import *\n",
    "\n",
    "# We assume that A is a square matrix \n",
    "\n",
    "# The function Submatrix(A,i,j) returns the matrix obtained from A by \n",
    "# deleting row i and column j (indexing starts with 0 not with 1)\n",
    "def Submatrix(A,i,j):\n",
    "    R = list(range(A.rows))\n",
    "    R.remove(i)\n",
    "    C = list(range(A.rows))\n",
    "    C.remove(j)\n",
    "    \n",
    "    return A.extract(R,C)\n",
    "\n",
    "\n",
    "\n",
    "def RecursiveDet(A):\n",
    "    n = A.rows\n",
    "    if n == 1:\n",
    "        return A[0,0]\n",
    "    else:\n",
    "        det = 0         \n",
    "        for i in range(n):\n",
    "            det = det + (-1)**i * A[0,i]* RecursiveDet(Submatrix(A,0,i))\n",
    "            \n",
    "        return det \n",
    "            \n",
    "        \n",
    "    "
   ]
  },
  {
   "cell_type": "code",
   "execution_count": 2,
   "metadata": {},
   "outputs": [],
   "source": [
    "# We define a function that adds scalar* row i to  row k\n",
    "# Throughout: indices start with 0 \n",
    "def elementary_row(A,i,k,scalar):\n",
    "    for j in range(A.cols):\n",
    "        A[k,j] = A[k,j] + scalar * A[i,j]\n",
    "    return A\n",
    "\n",
    "\n",
    "# We define a function that adds scalar* col i to  col k\n",
    "# Throughout: indices start with 0 \n",
    "def elementary_col(A,i,k,scalar):\n",
    "    for j in range(A.rows):\n",
    "        A[j,k] = A[j,k] + scalar * A[j,i]\n",
    "    return A\n",
    "\n",
    "\n",
    "# pivot(A,i,j) eliminates all entries in column j below entry i by \n",
    "# elementary row  operations\n",
    "def pivot(A,i,j):    \n",
    "    n = A.rows\n",
    "    if(A[i,j]==0):\n",
    "        print(\"Error: Pivot Element is zero \\n\")\n",
    "        return \n",
    "    else:\n",
    "        for k in range(i+1,n):\n",
    "            elementary_row(A,i,k,-A[k,j]/A[i,j])\n",
    "    return A\n",
    "    \n",
    "def GaussianDet(A):\n",
    "    n = A.rows\n",
    "    s = 1 # the determinant will be the product of s and the \n",
    "          # diagonal elements of the resulting triangular matrix \n",
    "    \n",
    "    for i in range(n):\n",
    "        \n",
    "        #We look for a pivot element in column i\n",
    "        j = i\n",
    "        while(A[j,i]==0):\n",
    "            j = j+1\n",
    "            \n",
    "            #If we do not find a pivot element, the \n",
    "            #determinant is zero \n",
    "            if (j >= n):\n",
    "                return 0\n",
    "        \n",
    "        if (j>i):\n",
    "            A.row_swap(i,j)  # Now A[i,i] != 0\n",
    "            s = s * (-1) \n",
    "        \n",
    "        pivot(A,i,i)\n",
    "                \n",
    "    for i in range(n):\n",
    "        s =s *A[i,i]        \n",
    "        \n",
    "    return s\n",
    "            \n",
    "        "
   ]
  },
  {
   "cell_type": "code",
   "execution_count": 3,
   "metadata": {},
   "outputs": [
    {
     "name": "stdout",
     "output_type": "stream",
     "text": [
      "⎡4  6  2⎤\n",
      "⎢       ⎥\n",
      "⎣2  4  9⎦\n",
      "⎡1  0  0⎤\n",
      "⎢       ⎥\n",
      "⎢0  1  0⎥\n",
      "⎢       ⎥\n",
      "⎣0  0  1⎦\n",
      "\\left[\\begin{matrix}4 & 6 & 2\\\\2 & 4 & 9\\end{matrix}\\right]\n",
      "\\left[\\begin{matrix}1 & 0 & 0\\\\0 & 1 & 0\\\\0 & 0 & 1\\end{matrix}\\right]\n"
     ]
    }
   ],
   "source": [
    "A = Matrix([[4,6,2],[2,4,9]])\n",
    "U = Matrix([[1,0,0],[0,1,0],[0,0,1]])\n",
    "\n",
    "\n",
    "pprint(A)\n",
    "pprint(U)            \n",
    "\n",
    "print(latex(A))\n",
    "print(latex(U))\n"
   ]
  },
  {
   "cell_type": "code",
   "execution_count": 92,
   "metadata": {},
   "outputs": [],
   "source": []
  },
  {
   "cell_type": "code",
   "execution_count": 93,
   "metadata": {},
   "outputs": [],
   "source": []
  },
  {
   "cell_type": "code",
   "execution_count": null,
   "metadata": {
    "collapsed": true
   },
   "outputs": [],
   "source": []
  }
 ],
 "metadata": {
  "kernelspec": {
   "display_name": "Python 3",
   "language": "python",
   "name": "python3"
  },
  "language_info": {
   "codemirror_mode": {
    "name": "ipython",
    "version": 3
   },
   "file_extension": ".py",
   "mimetype": "text/x-python",
   "name": "python",
   "nbconvert_exporter": "python",
   "pygments_lexer": "ipython3",
   "version": "3.7.3"
  }
 },
 "nbformat": 4,
 "nbformat_minor": 1
}
