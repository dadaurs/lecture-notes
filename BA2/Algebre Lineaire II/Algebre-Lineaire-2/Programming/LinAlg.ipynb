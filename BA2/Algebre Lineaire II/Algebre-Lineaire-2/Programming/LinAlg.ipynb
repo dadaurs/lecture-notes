{
 "cells": [
  {
   "cell_type": "markdown",
   "metadata": {},
   "source": [
    "In this exercise, we implement basic row and column operations. "
   ]
  },
  {
   "cell_type": "code",
   "execution_count": 1,
   "metadata": {},
   "outputs": [],
   "source": [
    "from sympy import *\n",
    "\n",
    "# We assume that A is a square matrix \n",
    "\n",
    "# The function Submatrix(A,i,j) returns the matrix obtained from A by \n",
    "# deleting row i and column j (indexing starts with 0 not with 1)\n",
    "def Submatrix(A,i,j):\n",
    "    R = list(range(A.rows))\n",
    "    R.remove(i)\n",
    "    C = list(range(A.rows))\n",
    "    C.remove(j)\n",
    "    \n",
    "    return A.extract(R,C)\n",
    "\n",
    "\n",
    "\n",
    "def RecursiveDet(A):\n",
    "    n = A.rows\n",
    "    if n == 1:\n",
    "        return A[0,0]\n",
    "    else:\n",
    "        det = 0         \n",
    "        for i in range(n):\n",
    "            det = det + (-1)**i * A[0,i]* RecursiveDet(Submatrix(A,0,i))\n",
    "            \n",
    "        return det \n",
    "            \n",
    "        \n",
    "    "
   ]
  },
  {
   "cell_type": "code",
   "execution_count": 2,
   "metadata": {},
   "outputs": [],
   "source": [
    "# We define a function that adds scalar* row i to  row k\n",
    "# Throughout: indices start with 0 \n",
    "def elementary_row(A,i,k,scalar):\n",
    "    for j in range(A.cols):\n",
    "        A[k,j] = A[k,j] + scalar * A[i,j]\n",
    "    return A\n",
    "\n",
    "\n",
    "# We define a function that adds scalar* col i to  col k\n",
    "# Throughout: indices start with 0 \n",
    "def elementary_col(A,i,k,scalar):\n",
    "    for j in range(A.rows):\n",
    "        A[j,k] = A[j,k] + scalar * A[j,i]\n",
    "    return A\n",
    "\n",
    "\n",
    "# pivot(A,i,j) eliminates all entries in column j below entry i by \n",
    "# elementary row  operations\n",
    "def pivot(A,i,j):    \n",
    "    n = A.rows\n",
    "    if(A[i,j]==0):\n",
    "        print(\"Error: Pivot Element is zero \\n\")\n",
    "        return \n",
    "    else:\n",
    "        for k in range(i+1,n):\n",
    "            elementary_row(A,i,k,-A[k,j]/A[i,j])\n",
    "    return A\n",
    "    \n",
    "def GaussianDet(A):\n",
    "    n = A.rows\n",
    "    s = 1 # the determinant will be the product of s and the \n",
    "          # diagonal elements of the resulting triangular matrix \n",
    "    \n",
    "    for i in range(n):\n",
    "        \n",
    "        #We look for a pivot element in column i\n",
    "        j = i\n",
    "        while(A[j,i]==0):\n",
    "            j = j+1\n",
    "            \n",
    "            #If we do not find a pivot element, the \n",
    "            #determinant is zero \n",
    "            if (j >= n):\n",
    "                return 0\n",
    "        \n",
    "        if (j>i):\n",
    "            A.row_swap(i,j)  # Now A[i,i] != 0\n",
    "            s = s * (-1) \n",
    "        \n",
    "        pivot(A,i,i)\n",
    "                \n",
    "    for i in range(n):\n",
    "        s =s *A[i,i]        \n",
    "        \n",
    "    return s\n",
    "            \n",
    "        "
   ]
  },
  {
   "cell_type": "code",
   "execution_count": 48,
   "metadata": {},
   "outputs": [
    {
     "name": "stdout",
     "output_type": "stream",
     "text": [
      "⎡4  6   10⎤\n",
      "⎢         ⎥\n",
      "⎣6  12  9 ⎦\n",
      "⎡1  0  0⎤\n",
      "⎢       ⎥\n",
      "⎢0  1  0⎥\n",
      "⎢       ⎥\n",
      "⎣0  0  1⎦\n",
      "\\left[\\begin{matrix}4 & 6 & 10\\\\6 & 12 & 9\\end{matrix}\\right]\n",
      "\\left[\\begin{matrix}1 & 0 & 0\\\\0 & 1 & 0\\\\0 & 0 & 1\\end{matrix}\\right]\n"
     ]
    }
   ],
   "source": [
    "A = Matrix([[4,6,10],[6,12,9]])\n",
    "B = Matrix(A)\n",
    "U = Matrix([[1,0,0],[0,1,0],[0,0,1]])\n",
    "\n",
    "pprint(A)\n",
    "pprint(U)            \n",
    "\n",
    "print(latex(A))\n",
    "print(latex(U))\n"
   ]
  },
  {
   "cell_type": "code",
   "execution_count": 49,
   "metadata": {},
   "outputs": [
    {
     "name": "stdout",
     "output_type": "stream",
     "text": [
      "⎡4  2  2 ⎤\n",
      "⎢        ⎥\n",
      "⎣6  6  -3⎦\n",
      "⎡4  2  2 ⎤\n",
      "⎢        ⎥\n",
      "⎣6  6  -3⎦\n",
      "\\left[\\begin{matrix}4 & 2 & 2\\\\6 & 6 & -3\\end{matrix}\\right]\n",
      "\\left[\\begin{matrix}1 & -1 & -2\\\\0 & 1 & 0\\\\0 & 0 & 1\\end{matrix}\\right]\n"
     ]
    }
   ],
   "source": [
    "elementary_col(A,0,1,-1)\n",
    "elementary_col(U,0,1,-1)\n",
    "elementary_col(A,0,2,-2)\n",
    "elementary_col(U,0,2,-2)\n",
    "\n",
    "pprint(A)\n",
    "pprint(B*U)\n",
    "\n",
    "print(latex(A))\n",
    "print(latex(U))"
   ]
  },
  {
   "cell_type": "code",
   "execution_count": 50,
   "metadata": {},
   "outputs": [
    {
     "name": "stdout",
     "output_type": "stream",
     "text": [
      "⎡2  4  2 ⎤\n",
      "⎢        ⎥\n",
      "⎣6  6  -3⎦\n",
      "⎡2  4  2 ⎤\n",
      "⎢        ⎥\n",
      "⎣6  6  -3⎦\n",
      "\\left[\\begin{matrix}2 & 4 & 2\\\\6 & 6 & -3\\end{matrix}\\right]\n",
      "\\left[\\begin{matrix}-1 & 1 & -2\\\\1 & 0 & 0\\\\0 & 0 & 1\\end{matrix}\\right]\n"
     ]
    }
   ],
   "source": [
    "A.col_swap(0,1)\n",
    "U.col_swap(0,1)\n",
    "pprint(A)\n",
    "pprint(B*U)\n",
    "\n",
    "print(latex(A))\n",
    "print(latex(U))"
   ]
  },
  {
   "cell_type": "code",
   "execution_count": 51,
   "metadata": {},
   "outputs": [
    {
     "name": "stdout",
     "output_type": "stream",
     "text": [
      "⎡2  0   0 ⎤\n",
      "⎢         ⎥\n",
      "⎣6  -6  -9⎦\n",
      "⎡2  0   0 ⎤\n",
      "⎢         ⎥\n",
      "⎣6  -6  -9⎦\n",
      "\\left[\\begin{matrix}2 & 0 & 0\\\\6 & -6 & -9\\end{matrix}\\right]\n",
      "\\left[\\begin{matrix}-1 & 3 & -1\\\\1 & -2 & -1\\\\0 & 0 & 1\\end{matrix}\\right]\n"
     ]
    }
   ],
   "source": [
    "elementary_col(A,0,1,-2)\n",
    "elementary_col(U,0,1,-2)\n",
    "elementary_col(A,0,2,-1)\n",
    "elementary_col(U,0,2,-1)\n",
    "\n",
    "pprint(A)\n",
    "pprint(B*U)\n",
    "\n",
    "print(latex(A))\n",
    "print(latex(U))"
   ]
  },
  {
   "cell_type": "code",
   "execution_count": 52,
   "metadata": {},
   "outputs": [
    {
     "name": "stdout",
     "output_type": "stream",
     "text": [
      "⎡2  0  0 ⎤\n",
      "⎢        ⎥\n",
      "⎣6  3  -9⎦\n",
      "⎡2  0  0 ⎤\n",
      "⎢        ⎥\n",
      "⎣6  3  -9⎦\n",
      "\\left[\\begin{matrix}2 & 0 & 0\\\\6 & 3 & -9\\end{matrix}\\right]\n",
      "\\left[\\begin{matrix}-1 & 4 & -1\\\\1 & -1 & -1\\\\0 & -1 & 1\\end{matrix}\\right]\n"
     ]
    }
   ],
   "source": [
    "elementary_col(A,2,1,-1)\n",
    "elementary_col(U,2,1,-1)\n",
    "\n",
    "pprint(A)\n",
    "pprint(B*U)\n",
    "print(latex(A))\n",
    "print(latex(U))"
   ]
  },
  {
   "cell_type": "code",
   "execution_count": 53,
   "metadata": {},
   "outputs": [
    {
     "name": "stdout",
     "output_type": "stream",
     "text": [
      "⎡2  0  0⎤\n",
      "⎢       ⎥\n",
      "⎣6  3  0⎦\n",
      "⎡2  0  0⎤\n",
      "⎢       ⎥\n",
      "⎣6  3  0⎦\n",
      "\\left[\\begin{matrix}2 & 0 & 0\\\\6 & 3 & 0\\end{matrix}\\right]\n",
      "\\left[\\begin{matrix}-1 & 4 & 11\\\\1 & -1 & -4\\\\0 & -1 & -2\\end{matrix}\\right]\n"
     ]
    }
   ],
   "source": [
    "elementary_col(A,1,2,3)\n",
    "elementary_col(U,1,2,3)\n",
    "\n",
    "pprint(A)\n",
    "pprint(B*U)\n",
    "print(latex(A))\n",
    "print(latex(U))"
   ]
  },
  {
   "cell_type": "code",
   "execution_count": 54,
   "metadata": {},
   "outputs": [
    {
     "name": "stdout",
     "output_type": "stream",
     "text": [
      "⎡2  0  0⎤\n",
      "⎢       ⎥\n",
      "⎣0  3  0⎦\n",
      "⎡2  0  0⎤\n",
      "⎢       ⎥\n",
      "⎣0  3  0⎦\n",
      "\\left[\\begin{matrix}2 & 0 & 0\\\\0 & 3 & 0\\end{matrix}\\right]\n",
      "\\left[\\begin{matrix}-9 & 4 & 11\\\\3 & -1 & -4\\\\2 & -1 & -2\\end{matrix}\\right]\n"
     ]
    }
   ],
   "source": [
    "elementary_col(A,1,0,-2)\n",
    "elementary_col(U,1,0,-2)\n",
    "\n",
    "pprint(A)\n",
    "pprint(B*U)\n",
    "print(latex(A))\n",
    "print(latex(U))"
   ]
  },
  {
   "cell_type": "code",
   "execution_count": 60,
   "metadata": {},
   "outputs": [
    {
     "name": "stdout",
     "output_type": "stream",
     "text": [
      "⎡-23⎤\n",
      "⎢   ⎥\n",
      "⎢ 8 ⎥\n",
      "⎢   ⎥\n",
      "⎣ 5 ⎦\n",
      "\\left[\\begin{matrix}-23\\\\8\\\\5\\end{matrix}\\right]\n",
      "⎡6⎤\n",
      "⎢ ⎥\n",
      "⎣3⎦\n"
     ]
    }
   ],
   "source": [
    "y = Matrix([[3],[1],[0]])\n",
    "\n",
    "pprint(U*y)\n",
    "print(latex(U*y))\n",
    "\n",
    "pprint (B*U*y)"
   ]
  },
  {
   "cell_type": "code",
   "execution_count": null,
   "metadata": {},
   "outputs": [],
   "source": []
  }
 ],
 "metadata": {
  "kernelspec": {
   "display_name": "Python 3",
   "language": "python",
   "name": "python3"
  },
  "language_info": {
   "codemirror_mode": {
    "name": "ipython",
    "version": 3
   },
   "file_extension": ".py",
   "mimetype": "text/x-python",
   "name": "python",
   "nbconvert_exporter": "python",
   "pygments_lexer": "ipython3",
   "version": "3.7.3"
  }
 },
 "nbformat": 4,
 "nbformat_minor": 1
}
